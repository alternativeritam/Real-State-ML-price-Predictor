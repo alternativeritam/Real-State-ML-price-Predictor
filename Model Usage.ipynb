{
 "cells": [
  {
   "cell_type": "code",
   "execution_count": 8,
   "id": "gothic-ability",
   "metadata": {},
   "outputs": [],
   "source": [
    "from joblib import dump,load\n",
    "import numpy as np\n",
    "model = load(\"Dragon.joblib\")"
   ]
  },
  {
   "cell_type": "code",
   "execution_count": 9,
   "id": "suburban-bradford",
   "metadata": {},
   "outputs": [
    {
     "data": {
      "text/plain": [
       "array([22.342])"
      ]
     },
     "execution_count": 9,
     "metadata": {},
     "output_type": "execute_result"
    }
   ],
   "source": [
    "feature = np.array([[-0.43942006,  3.12628155, -1.12165014, -0.27288841, -1.42262747,\n",
    "       -0.24141041, -1.31238772,  2.61111401, -1.0016859 , -0.5778192 ,\n",
    "       -0.97491834,  0.41164221, -0.86091034]])\n",
    "model.predict(feature)"
   ]
  },
  {
   "cell_type": "code",
   "execution_count": 14,
   "id": "virgin-baptist",
   "metadata": {},
   "outputs": [],
   "source": [
    "import tkinter as tk"
   ]
  },
  {
   "cell_type": "code",
   "execution_count": 3,
   "id": "limiting-kingston",
   "metadata": {},
   "outputs": [],
   "source": [
    "from sklearn.pipeline import Pipeline\n",
    "from sklearn.preprocessing import StandardScaler\n",
    "from sklearn.impute import SimpleImputer\n",
    "my_pipeline = Pipeline([\n",
    "    (\"Simple_Imputer\", SimpleImputer(strategy=\"median\")),\n",
    "    #..many more can be add\n",
    "    (\"std_scalar\",StandardScaler()),\n",
    "])"
   ]
  },
  {
   "cell_type": "code",
   "execution_count": 6,
   "id": "computational-nebraska",
   "metadata": {},
   "outputs": [
    {
     "name": "stdout",
     "output_type": "stream",
     "text": [
      "CRIM : 0.00632\n",
      "ZN : 18\n",
      "INDUS : 2.31\n",
      "CHAS : 0\n",
      "NOX : 0.538\n",
      "RM : 6.575\n",
      "AGE : 65.2\n",
      "DIS : 4.09\n",
      "RAD : 1\n",
      "TAX: 296\n",
      "PTRATIO : 15.3\n",
      "B : 396.9\n",
      "LSTAT : 4.98\n"
     ]
    },
    {
     "data": {
      "text/plain": [
       "array([[0., 0., 0., 0., 0., 0., 0., 0., 0., 0., 0., 0., 0.]])"
      ]
     },
     "execution_count": 6,
     "metadata": {},
     "output_type": "execute_result"
    }
   ],
   "source": [
    "CRIM = float(input(\"CRIM : \"))\n",
    "ZN = float(input(\"ZN : \"))\n",
    "INDUS = float(input(\"INDUS : \"))\n",
    "CHAS = float(input(\"CHAS : \"))\n",
    "NOX = float(input(\"NOX : \"))\n",
    "RM = float(input(\"RM : \"))\n",
    "AGE = float(input(\"AGE : \"))\n",
    "DIS = float(input(\"DIS : \"))\n",
    "RAD = float(input(\"RAD : \"))\n",
    "TAX = float(input(\"TAX: \"))\n",
    "PTRATIO = float(input(\"PTRATIO : \"))\n",
    "B = float(input(\"B : \"))\n",
    "LSTAT = float(input(\"LSTAT : \"))\n",
    "\n",
    "import numpy as np\n",
    "\n",
    "given_data = np.array([[\n",
    "    CRIM,ZN,INDUS,CHAS,NOX,RM,AGE,DIS,RAD,TAX,PTRATIO,B,LSTAT\n",
    "]])"
   ]
  },
  {
   "cell_type": "code",
   "execution_count": 11,
   "id": "educated-bulgarian",
   "metadata": {},
   "outputs": [
    {
     "data": {
      "text/plain": [
       "array([23.624])"
      ]
     },
     "execution_count": 11,
     "metadata": {},
     "output_type": "execute_result"
    }
   ],
   "source": [
    "model.predict(given_data)"
   ]
  },
  {
   "cell_type": "code",
   "execution_count": 91,
   "id": "broadband-friday",
   "metadata": {},
   "outputs": [],
   "source": [
    "import tkinter.font as tkFont\n",
    "\n",
    "# define function for price estimation\n",
    "\n",
    "def price_estimator():\n",
    "    if(CRIM_field.get()==\"\" and ZN_field.get()==\"\" and INDUS_field.get()==\"\" and CHAS_field.get()==\"\" and NOX_field.get()==\"\" and RM_field.get()==\"\"and AGE_field.get()==\"\"\n",
    "       and DIS_field.get()==\"\"and RAD_field.get()==\"\" and TAX_field.get()==\"\" and PTRTIO_field.get()==\"\" and B_field.get()==\"\" and LSTAT_field.get()==\"\"):\n",
    "        Total_Price_field.insert(0,\"Please enter the values properly !\")\n",
    "    else:\n",
    "        CRIM = float(CRIM_field.get())\n",
    "        ZN = float(ZN_field.get())\n",
    "        INDUS = float(INDUS_field.get())\n",
    "        CHAS = float(CHAS_field.get())\n",
    "        NOX = float(NOX_field.get())\n",
    "        RM = float(RM_field.get())\n",
    "        AGE = float(AGE_field.get())\n",
    "        DIS = float(DIS_field.get())\n",
    "        RAD = float(RAD_field.get())\n",
    "        TAX = float(TAX_field.get())\n",
    "        PTRTIO = float(PTRTIO_field.get())\n",
    "        B = float(B_field.get())\n",
    "        LSTAT = float(LSTAT_field.get())\n",
    "        given_data = np.array([[\n",
    "    CRIM,ZN,INDUS,CHAS,NOX,RM,AGE,DIS,RAD,TAX,PTRATIO,B,LSTAT]])\n",
    "        value = model.predict(given_data)\n",
    "        price = value*1000\n",
    "        price = str(int(price))+\" Dollar\"\n",
    "        Total_Price_field.insert(0,price)\n",
    "\n",
    "root = Tk() \n",
    "  \n",
    "    # set the background colour of GUI window \n",
    "root.configure(background='light green') \n",
    "  \n",
    "    # set the title of GUI window \n",
    "root.title(\"registration form\") \n",
    "  \n",
    "    # set the configuration of GUI window \n",
    "root.geometry(\"700x700\")\n",
    "fontStyle1 = tkFont.Font(family=\"Helvetica\",weight=\"bold\",underline=\"1\" , size=25)\n",
    "fontStyle2 = tkFont.Font(family=\"Lucida Grande\", size=25)\n",
    "heading = Label(root, text=\"Price Estimator of Real State\", bg=\"red\",font=fontStyle1) \n",
    "\n",
    "CRIM = Label(root, text=\"CRIM\", bg=\"yellow\")  \n",
    "ZN = Label(root, text=\"ZN\", bg=\"green\")  \n",
    "INDUS = Label(root, text=\"INDUS\", bg=\"yellow\")  \n",
    "CHAS = Label(root, text=\"CHAS\", bg=\"green\")  \n",
    "NOX = Label(root, text=\"NOX\", bg=\"yellow\") \n",
    "RM = Label(root, text=\"RM\", bg=\"green\") \n",
    "AGE = Label(root, text=\"AGE\", bg=\"yellow\")\n",
    "DIS = Label(root, text=\"DIS\", bg=\"green\")\n",
    "RAD = Label(root, text=\"RAD\", bg=\"yellow\")\n",
    "TAX = Label(root, text=\"TAX\", bg=\"green\")\n",
    "PTRTIO = Label(root, text=\"PTRTIO\", bg=\"yellow\")\n",
    "B = Label(root, text=\"B\", bg=\"green\")\n",
    "LSTAT = Label(root, text=\"LSTAT\", bg=\"yellow\")\n",
    "Total_Price = Label(root, text=\"Total Price\", bg=\"White\",font=fontStyle2)\n",
    "\n",
    "\n",
    "heading.grid(row=0, column=1,padx=10,pady=10) \n",
    "CRIM.grid(row=2, column=0,padx=5,pady=5,ipadx=\"15\") \n",
    "ZN.grid(row=4, column=0,padx=5,pady=5,ipadx=\"20\") \n",
    "INDUS.grid(row=6, column=0,padx=5,pady=5,ipadx=\"15\") \n",
    "CHAS.grid(row=8, column=0,padx=5,pady=5,ipadx=\"15\") \n",
    "NOX.grid(row=10, column=0,padx=5,pady=5,ipadx=\"18\") \n",
    "RM.grid(row=12, column=0,padx=5,pady=5,ipadx=\"20\") \n",
    "AGE.grid(row=14, column=0,padx=5,pady=5,ipadx=\"18\")\n",
    "DIS.grid(row=16, column=0,padx=5,pady=5,ipadx=\"18\")\n",
    "RAD.grid(row=18, column=0,padx=5,pady=5,ipadx=\"18\")\n",
    "TAX.grid(row=20, column=0,padx=5,pady=5,ipadx=\"18\")\n",
    "PTRTIO.grid(row=22, column=0,padx=5,pady=5,ipadx=\"10\")\n",
    "B.grid(row=24, column=0,padx=5,pady=5,ipadx=\"24\")\n",
    "LSTAT.grid(row=26, column=0,padx=5,pady=5,ipadx=\"12\")\n",
    "Total_Price.grid(row=30, column=0,padx=5,pady=5,ipadx=\"12\")\n",
    " \n",
    "    \n",
    "    # create a text entry box \n",
    "    # for typing the information \n",
    "CRIM_field = Entry(root) \n",
    "ZN_field = Entry(root) \n",
    "INDUS_field = Entry(root) \n",
    "CHAS_field = Entry(root) \n",
    "NOX_field = Entry(root) \n",
    "RM_field = Entry(root) \n",
    "AGE_field = Entry(root)\n",
    "DIS_field = Entry(root)\n",
    "RAD_field = Entry(root)\n",
    "TAX_field = Entry(root)\n",
    "PTRTIO_field = Entry(root)\n",
    "B_field = Entry(root)\n",
    "LSTAT_field = Entry(root)\n",
    "Total_Price_field = Entry(root)\n",
    "\n",
    "CRIM_field.grid(row=2, column=1, ipadx=\"100\") \n",
    "ZN_field.grid(row=4, column=1, ipadx=\"100\") \n",
    "INDUS_field.grid(row=6, column=1, ipadx=\"100\") \n",
    "CHAS_field.grid(row=8, column=1, ipadx=\"100\") \n",
    "NOX_field.grid(row=10, column=1, ipadx=\"100\") \n",
    "RM_field.grid(row=12, column=1, ipadx=\"100\") \n",
    "AGE_field.grid(row=14, column=1, ipadx=\"100\")\n",
    "DIS_field.grid(row=16, column=1, ipadx=\"100\")\n",
    "RAD_field.grid(row=18, column=1, ipadx=\"100\")\n",
    "TAX_field.grid(row=20, column=1, ipadx=\"100\")\n",
    "PTRTIO_field.grid(row=22, column=1, ipadx=\"100\")\n",
    "B_field.grid(row=24, column=1, ipadx=\"100\")\n",
    "LSTAT_field.grid(row=26, column=1, ipadx=\"100\")\n",
    "submit = Button(root, text=\"Submit\", fg=\"Black\", bg=\"Red\",padx=\"5\",pady=\"5\", command=price_estimator) \n",
    "submit.grid(row=28, column=1) \n",
    "Total_Price_field.grid(row=30, column=1,padx=\"5\",pady=\"5\",ipadx=\"50\",ipady=\"20\")\n",
    "\n",
    "\n",
    "root.mainloop()"
   ]
  },
  {
   "cell_type": "code",
   "execution_count": null,
   "id": "serious-breed",
   "metadata": {},
   "outputs": [],
   "source": []
  },
  {
   "cell_type": "code",
   "execution_count": null,
   "id": "scenic-conditioning",
   "metadata": {},
   "outputs": [],
   "source": []
  }
 ],
 "metadata": {
  "kernelspec": {
   "display_name": "Python 3",
   "language": "python",
   "name": "python3"
  },
  "language_info": {
   "codemirror_mode": {
    "name": "ipython",
    "version": 3
   },
   "file_extension": ".py",
   "mimetype": "text/x-python",
   "name": "python",
   "nbconvert_exporter": "python",
   "pygments_lexer": "ipython3",
   "version": "3.8.5"
  }
 },
 "nbformat": 4,
 "nbformat_minor": 5
}
